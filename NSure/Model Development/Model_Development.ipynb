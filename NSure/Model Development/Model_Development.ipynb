{
 "cells": [
  {
   "attachments": {},
   "cell_type": "markdown",
   "metadata": {
    "application/vnd.databricks.v1+cell": {
     "cellMetadata": {
      "byteLimit": 2048000,
      "rowLimit": 10000
     },
     "inputWidgets": {},
     "nuid": "9036f001-57da-49a6-9597-021f252bc7a2",
     "showTitle": false,
     "title": ""
    }
   },
   "source": [
    "## *MScBA BA&M 23*: FinTech MVP- NSure's ML Classifier Model Development\n",
    "> Project author: Oleksii Grygoryshyn \\\n",
    "> Student ID: 528646 \\\n",
    "> Date: 23/06/23"
   ]
  },
  {
   "attachments": {},
   "cell_type": "markdown",
   "metadata": {
    "application/vnd.databricks.v1+cell": {
     "cellMetadata": {
      "byteLimit": 2048000,
      "rowLimit": 10000
     },
     "inputWidgets": {},
     "nuid": "4567001f-1bdb-4056-ab68-5e5231e6d809",
     "showTitle": false,
     "title": ""
    }
   },
   "source": [
    "#### Loading in necessary Libraries, Packages, and Datasets\n",
    "\n",
    "In this section, the required libraries and packages used for the development of the classifier model are installed. The dataset containing 1,800 simulated samples for training (and testing) of the model is also loaded into the session. The dataset was simulated by generating values using unique normal and binomial distributions for features of every seperate insurance plan covered by the model (18 insurance products)."
   ]
  },
  {
   "cell_type": "code",
   "execution_count": 1,
   "metadata": {
    "application/vnd.databricks.v1+cell": {
     "cellMetadata": {
      "byteLimit": 2048000,
      "rowLimit": 10000
     },
     "inputWidgets": {},
     "nuid": "c1e92be4-126c-49cc-aa22-fbc2401f5309",
     "showTitle": false,
     "title": ""
    }
   },
   "outputs": [],
   "source": [
    "# Installing necessary Libraries, Packages, and Functions\n",
    "import pandas as pd\n",
    "import numpy as np\n",
    "from matplotlib import pyplot as plt\n",
    "%matplotlib inline\n",
    "import seaborn as sns\n",
    "sns.set(style=\"dark\")\n",
    "\n",
    "from sklearn.ensemble import (\n",
    "    RandomForestClassifier\n",
    ")\n",
    "from sklearn.model_selection import (\n",
    "    cross_validate,\n",
    "    train_test_split\n",
    ")\n",
    "from sklearn.metrics import confusion_matrix, balanced_accuracy_score\n",
    "\n",
    "pd.set_option('display.float_format', lambda x: f'{x:.3f}')\n",
    "\n",
    "import pickle"
   ]
  },
  {
   "cell_type": "code",
   "execution_count": 2,
   "metadata": {
    "application/vnd.databricks.v1+cell": {
     "cellMetadata": {
      "byteLimit": 2048000,
      "rowLimit": 10000
     },
     "inputWidgets": {},
     "nuid": "010752ca-fb54-412b-ba91-3cf654c28b64",
     "showTitle": false,
     "title": ""
    }
   },
   "outputs": [
    {
     "data": {
      "text/html": [
       "<div>\n",
       "<style scoped>\n",
       "    .dataframe tbody tr th:only-of-type {\n",
       "        vertical-align: middle;\n",
       "    }\n",
       "\n",
       "    .dataframe tbody tr th {\n",
       "        vertical-align: top;\n",
       "    }\n",
       "\n",
       "    .dataframe thead th {\n",
       "        text-align: right;\n",
       "    }\n",
       "</style>\n",
       "<table border=\"1\" class=\"dataframe\">\n",
       "  <thead>\n",
       "    <tr style=\"text-align: right;\">\n",
       "      <th></th>\n",
       "      <th>Insurance_plan</th>\n",
       "      <th>CPM</th>\n",
       "      <th>P_term</th>\n",
       "      <th>Healthcare_cover</th>\n",
       "      <th>NC_reimbursement</th>\n",
       "      <th>Bundle_options</th>\n",
       "      <th>Dental_options</th>\n",
       "      <th>Physio_term</th>\n",
       "      <th>Mental_health_options</th>\n",
       "      <th>International_cover</th>\n",
       "    </tr>\n",
       "  </thead>\n",
       "  <tbody>\n",
       "    <tr>\n",
       "      <th>0</th>\n",
       "      <td>United Customers: Conscious Choice</td>\n",
       "      <td>127.450</td>\n",
       "      <td>Monthly</td>\n",
       "      <td>Wide</td>\n",
       "      <td>60</td>\n",
       "      <td>Limited</td>\n",
       "      <td>No</td>\n",
       "      <td>No</td>\n",
       "      <td>No</td>\n",
       "      <td>Limited</td>\n",
       "    </tr>\n",
       "    <tr>\n",
       "      <th>1</th>\n",
       "      <td>United Customers: Conscious Choice</td>\n",
       "      <td>128.000</td>\n",
       "      <td>Monthly</td>\n",
       "      <td>Limited</td>\n",
       "      <td>61</td>\n",
       "      <td>Limited</td>\n",
       "      <td>No</td>\n",
       "      <td>Yes</td>\n",
       "      <td>No</td>\n",
       "      <td>Limited</td>\n",
       "    </tr>\n",
       "    <tr>\n",
       "      <th>2</th>\n",
       "      <td>United Customers: Conscious Choice</td>\n",
       "      <td>130.000</td>\n",
       "      <td>Monthly</td>\n",
       "      <td>Wide</td>\n",
       "      <td>60</td>\n",
       "      <td>Limited</td>\n",
       "      <td>No</td>\n",
       "      <td>Yes</td>\n",
       "      <td>No</td>\n",
       "      <td>Limited</td>\n",
       "    </tr>\n",
       "    <tr>\n",
       "      <th>3</th>\n",
       "      <td>United Customers: Conscious Choice</td>\n",
       "      <td>127.000</td>\n",
       "      <td>Monthly</td>\n",
       "      <td>Unlimited</td>\n",
       "      <td>59</td>\n",
       "      <td>Wide</td>\n",
       "      <td>No</td>\n",
       "      <td>Yes</td>\n",
       "      <td>No</td>\n",
       "      <td>Yes</td>\n",
       "    </tr>\n",
       "    <tr>\n",
       "      <th>4</th>\n",
       "      <td>United Customers: Conscious Choice</td>\n",
       "      <td>123.000</td>\n",
       "      <td>Monthly</td>\n",
       "      <td>Unlimited</td>\n",
       "      <td>61</td>\n",
       "      <td>Wide</td>\n",
       "      <td>No</td>\n",
       "      <td>No</td>\n",
       "      <td>No</td>\n",
       "      <td>Limited</td>\n",
       "    </tr>\n",
       "    <tr>\n",
       "      <th>...</th>\n",
       "      <td>...</td>\n",
       "      <td>...</td>\n",
       "      <td>...</td>\n",
       "      <td>...</td>\n",
       "      <td>...</td>\n",
       "      <td>...</td>\n",
       "      <td>...</td>\n",
       "      <td>...</td>\n",
       "      <td>...</td>\n",
       "      <td>...</td>\n",
       "    </tr>\n",
       "    <tr>\n",
       "      <th>1795</th>\n",
       "      <td>FTBO Base Free</td>\n",
       "      <td>143.000</td>\n",
       "      <td>Yearly</td>\n",
       "      <td>Unlimited</td>\n",
       "      <td>99</td>\n",
       "      <td>Wide</td>\n",
       "      <td>No</td>\n",
       "      <td>No</td>\n",
       "      <td>No</td>\n",
       "      <td>Limited</td>\n",
       "    </tr>\n",
       "    <tr>\n",
       "      <th>1796</th>\n",
       "      <td>FTBO Base Free</td>\n",
       "      <td>140.000</td>\n",
       "      <td>Monthly</td>\n",
       "      <td>Unlimited</td>\n",
       "      <td>100</td>\n",
       "      <td>Wide</td>\n",
       "      <td>No</td>\n",
       "      <td>No</td>\n",
       "      <td>No</td>\n",
       "      <td>Yes</td>\n",
       "    </tr>\n",
       "    <tr>\n",
       "      <th>1797</th>\n",
       "      <td>FTBO Base Free</td>\n",
       "      <td>141.000</td>\n",
       "      <td>Monthly</td>\n",
       "      <td>Unlimited</td>\n",
       "      <td>100</td>\n",
       "      <td>Wide</td>\n",
       "      <td>No</td>\n",
       "      <td>No</td>\n",
       "      <td>No</td>\n",
       "      <td>Yes</td>\n",
       "    </tr>\n",
       "    <tr>\n",
       "      <th>1798</th>\n",
       "      <td>FTBO Base Free</td>\n",
       "      <td>139.000</td>\n",
       "      <td>Yearly</td>\n",
       "      <td>Unlimited</td>\n",
       "      <td>100</td>\n",
       "      <td>Wide</td>\n",
       "      <td>No</td>\n",
       "      <td>No</td>\n",
       "      <td>No</td>\n",
       "      <td>Yes</td>\n",
       "    </tr>\n",
       "    <tr>\n",
       "      <th>1799</th>\n",
       "      <td>FTBO Base Free</td>\n",
       "      <td>142.000</td>\n",
       "      <td>Monthly</td>\n",
       "      <td>Unlimited</td>\n",
       "      <td>98</td>\n",
       "      <td>Wide</td>\n",
       "      <td>No</td>\n",
       "      <td>No</td>\n",
       "      <td>No</td>\n",
       "      <td>Yes</td>\n",
       "    </tr>\n",
       "  </tbody>\n",
       "</table>\n",
       "<p>1800 rows × 10 columns</p>\n",
       "</div>"
      ],
      "text/plain": [
       "                          Insurance_plan     CPM   P_term Healthcare_cover  \\\n",
       "0     United Customers: Conscious Choice 127.450  Monthly             Wide   \n",
       "1     United Customers: Conscious Choice 128.000  Monthly          Limited   \n",
       "2     United Customers: Conscious Choice 130.000  Monthly             Wide   \n",
       "3     United Customers: Conscious Choice 127.000  Monthly        Unlimited   \n",
       "4     United Customers: Conscious Choice 123.000  Monthly        Unlimited   \n",
       "...                                  ...     ...      ...              ...   \n",
       "1795                      FTBO Base Free 143.000   Yearly        Unlimited   \n",
       "1796                      FTBO Base Free 140.000  Monthly        Unlimited   \n",
       "1797                      FTBO Base Free 141.000  Monthly        Unlimited   \n",
       "1798                      FTBO Base Free 139.000   Yearly        Unlimited   \n",
       "1799                      FTBO Base Free 142.000  Monthly        Unlimited   \n",
       "\n",
       "      NC_reimbursement Bundle_options Dental_options Physio_term  \\\n",
       "0                   60        Limited             No          No   \n",
       "1                   61        Limited             No         Yes   \n",
       "2                   60        Limited             No         Yes   \n",
       "3                   59           Wide             No         Yes   \n",
       "4                   61           Wide             No          No   \n",
       "...                ...            ...            ...         ...   \n",
       "1795                99           Wide             No          No   \n",
       "1796               100           Wide             No          No   \n",
       "1797               100           Wide             No          No   \n",
       "1798               100           Wide             No          No   \n",
       "1799                98           Wide             No          No   \n",
       "\n",
       "     Mental_health_options International_cover  \n",
       "0                       No             Limited  \n",
       "1                       No             Limited  \n",
       "2                       No             Limited  \n",
       "3                       No                 Yes  \n",
       "4                       No             Limited  \n",
       "...                    ...                 ...  \n",
       "1795                    No             Limited  \n",
       "1796                    No                 Yes  \n",
       "1797                    No                 Yes  \n",
       "1798                    No                 Yes  \n",
       "1799                    No                 Yes  \n",
       "\n",
       "[1800 rows x 10 columns]"
      ]
     },
     "execution_count": 2,
     "metadata": {},
     "output_type": "execute_result"
    }
   ],
   "source": [
    "# Loading Pre-processed df_clean\n",
    "df_clean = pd.read_csv(\"NSure_Data.csv\", delimiter=\";\")\n",
    "\n",
    "df_clean"
   ]
  },
  {
   "attachments": {},
   "cell_type": "markdown",
   "metadata": {
    "application/vnd.databricks.v1+cell": {
     "cellMetadata": {
      "byteLimit": 2048000,
      "rowLimit": 10000
     },
     "inputWidgets": {},
     "nuid": "87ee37ef-b22e-4f3b-92b4-b27c2c19cea4",
     "showTitle": false,
     "title": ""
    }
   },
   "source": [
    "#### Pre-processing\n",
    "\n",
    "During preprocessing, the features of the dataset get correctly assigned to their data types."
   ]
  },
  {
   "cell_type": "code",
   "execution_count": 3,
   "metadata": {
    "application/vnd.databricks.v1+cell": {
     "cellMetadata": {
      "byteLimit": 2048000,
      "rowLimit": 10000
     },
     "inputWidgets": {},
     "nuid": "e3955f56-335f-46f8-b47c-920cd94594ce",
     "showTitle": false,
     "title": ""
    }
   },
   "outputs": [],
   "source": [
    "# Converting columns into correct data type formats\n",
    "df_clean[[\"NC_reimbursement\"]] = df_clean[[\"NC_reimbursement\"]].astype(int)\n",
    "\n",
    "df_clean[[\"CPM\"]] = df_clean[[\"CPM\"]].astype(float)\n",
    "\n",
    "df_clean[\n",
    "    [\n",
    "        \"Insurance_plan\",\n",
    "        \"P_term\",\n",
    "        \"Healthcare_cover\",\n",
    "        \"Bundle_options\",\n",
    "        \"Dental_options\",\n",
    "        \"Physio_term\",\n",
    "        \"Mental_health_options\",\n",
    "        \"International_cover\",\n",
    "    ]\n",
    "] = df_clean[\n",
    "    [\n",
    "        \"Insurance_plan\",\n",
    "        \"P_term\",\n",
    "        \"Healthcare_cover\",\n",
    "        \"Bundle_options\",\n",
    "        \"Dental_options\",\n",
    "        \"Physio_term\",\n",
    "        \"Mental_health_options\",\n",
    "        \"International_cover\",\n",
    "    ]\n",
    "].astype(\n",
    "    str\n",
    ")"
   ]
  },
  {
   "attachments": {},
   "cell_type": "markdown",
   "metadata": {
    "application/vnd.databricks.v1+cell": {
     "cellMetadata": {
      "byteLimit": 2048000,
      "rowLimit": 10000
     },
     "inputWidgets": {},
     "nuid": "f5b06728-e407-4b65-91af-ca0389bd4621",
     "showTitle": false,
     "title": ""
    }
   },
   "source": [
    "#### Data Modelling: Training, Validating, and Testing Model performance"
   ]
  },
  {
   "attachments": {},
   "cell_type": "markdown",
   "metadata": {},
   "source": [
    "During data modelling, it is important to encode all the categorical variables into indicator dummy variables which can be treated as numerical values by the model. Another critical step is to split the train and test set in order to isolate the data that we train the data with from the data which will be used to test it's performance perior to pushing the model into production and usage on the web application."
   ]
  },
  {
   "cell_type": "code",
   "execution_count": 4,
   "metadata": {
    "application/vnd.databricks.v1+cell": {
     "cellMetadata": {
      "byteLimit": 2048000,
      "rowLimit": 10000
     },
     "inputWidgets": {},
     "nuid": "992b117c-436d-440e-b1cf-706f77cde195",
     "showTitle": false,
     "title": ""
    }
   },
   "outputs": [],
   "source": [
    "reg_cat = df_clean[\n",
    "    [\n",
    "        \"P_term\",\n",
    "        \"Healthcare_cover\",\n",
    "        \"Bundle_options\",\n",
    "        \"Dental_options\",\n",
    "        \"Physio_term\",\n",
    "        \"Mental_health_options\",\n",
    "        \"International_cover\",\n",
    "    ]\n",
    "]\n",
    "\n",
    "dummies = pd.get_dummies(data=reg_cat, drop_first=False)\n",
    "reg_num = df_clean[[\"Insurance_plan\", \"NC_reimbursement\", \"CPM\"]]\n",
    "df_reg = reg_num.join(dummies)\n",
    "\n",
    "X = df_reg.drop(columns=[\"Insurance_plan\"])\n",
    "y = df_reg[\"Insurance_plan\"]\n",
    "\n",
    "\n",
    "# Splitting train and test sets back into IV's and DV series\n",
    "df_train, df_test = train_test_split(\n",
    "    df_reg,\n",
    "    random_state=34687,\n",
    "    train_size=0.8,\n",
    ")\n",
    "\n",
    "X_train = df_train.drop(columns=[\"Insurance_plan\"])\n",
    "y_train = df_train[\"Insurance_plan\"]\n",
    "\n",
    "X_test = df_test.drop(columns=[\"Insurance_plan\"])\n",
    "y_test = df_test[\"Insurance_plan\"]"
   ]
  },
  {
   "attachments": {},
   "cell_type": "markdown",
   "metadata": {},
   "source": [
    "After prepearing the train/test set splits, it is possible to evaluate model performance and conducting preliminary hyperparameter optimisation using 5-fold Cross-validation. As demonstrated, the CV performance of a Random Forest classifier with tree max_depth=10 and n_estimators=200 provides acceptable accuracy scores and ROC AUC scores.\n",
    "\n",
    "Seeing as the CV performance is acceptable, we proceed with evaluating test-set performance before utilising it on the web app."
   ]
  },
  {
   "cell_type": "code",
   "execution_count": 5,
   "metadata": {
    "application/vnd.databricks.v1+cell": {
     "cellMetadata": {
      "byteLimit": 2048000,
      "rowLimit": 10000
     },
     "inputWidgets": {},
     "nuid": "fa8529d4-be9c-4436-86cc-8d0eea92b632",
     "showTitle": false,
     "title": ""
    }
   },
   "outputs": [
    {
     "name": "stdout",
     "output_type": "stream",
     "text": [
      "5-Fold Cross-Validated Accuracy of model: 0.8521\n",
      "5-Fold Cross-Validated Balanced Accuracy of model: 0.8521\n",
      "5-Fold Cross-Validated ROC AUC of model: 0.9907\n"
     ]
    }
   ],
   "source": [
    "# Vanilla baseline ML model using the Random Forest (RF) algorithm with standard tuning to assess initial model performance without dimensionality reduction / variable selection\n",
    "model = RandomForestClassifier(max_depth=10, n_estimators=200, random_state=37, max_features='sqrt', n_jobs=-1)\n",
    "\n",
    "# Retrieving Cross-validated performance of model (CV=5)\n",
    "scores = cross_validate(\n",
    "    model, X_train, y_train, cv=5, scoring=(\"accuracy\", \"balanced_accuracy\", \"roc_auc_ovr\")\n",
    ")\n",
    "\n",
    "vanilla_accuracy = round((abs(np.mean(scores['test_accuracy']))), 4)\n",
    "print(\n",
    "    f\"5-Fold Cross-Validated Accuracy of model: {vanilla_accuracy:,}\"\n",
    ")\n",
    "\n",
    "vanilla_balanced_accuracy = round((abs(np.mean(scores[\"test_balanced_accuracy\"]))), 4)\n",
    "print(\n",
    "    f\"5-Fold Cross-Validated Balanced Accuracy of model: {vanilla_balanced_accuracy:,}\"\n",
    ")\n",
    "\n",
    "vanilla_roc_auc = round((abs(np.mean(scores[\"test_roc_auc_ovr\"]))), 4)\n",
    "print(\n",
    "    f\"5-Fold Cross-Validated ROC AUC of model: {vanilla_roc_auc:,}\"\n",
    ")"
   ]
  },
  {
   "attachments": {},
   "cell_type": "markdown",
   "metadata": {
    "application/vnd.databricks.v1+cell": {
     "cellMetadata": {
      "byteLimit": 2048000,
      "rowLimit": 10000
     },
     "inputWidgets": {},
     "nuid": "a29c0322-44e0-4320-80b8-1a6bf5c89f16",
     "showTitle": false,
     "title": ""
    }
   },
   "source": [
    "#### Test-set Performance"
   ]
  },
  {
   "attachments": {},
   "cell_type": "markdown",
   "metadata": {},
   "source": [
    "The last step before using the model in our application is evaluation of its' performance on the test set."
   ]
  },
  {
   "cell_type": "code",
   "execution_count": 6,
   "metadata": {
    "application/vnd.databricks.v1+cell": {
     "cellMetadata": {
      "byteLimit": 2048000,
      "rowLimit": 10000
     },
     "inputWidgets": {},
     "nuid": "fb7de3e0-ae43-4ba7-bff0-4b45c172cec5",
     "showTitle": false,
     "title": ""
    }
   },
   "outputs": [
    {
     "name": "stdout",
     "output_type": "stream",
     "text": [
      "Balanced Accuracy: 85.23 %\n"
     ]
    }
   ],
   "source": [
    "rf_model_baseline = model.fit(X_train, y_train)\n",
    "y_test_preds = rf_model_baseline.predict(X_test)\n",
    "\n",
    "cm = confusion_matrix(y_test, y_test_preds)\n",
    "\n",
    "print('Balanced Accuracy:', round((balanced_accuracy_score(y_test, y_test_preds)*100), 2), '%')"
   ]
  },
  {
   "attachments": {},
   "cell_type": "markdown",
   "metadata": {},
   "source": [
    "As demonstrated by the balanced accuracy score of 85.23% and the confusion matrix heatmap displayed below, it is possible to conclude that the model is in an acceptable state to be used for predicting insurance plan policies in the MVP web application."
   ]
  },
  {
   "cell_type": "code",
   "execution_count": 7,
   "metadata": {
    "application/vnd.databricks.v1+cell": {
     "cellMetadata": {
      "byteLimit": 2048000,
      "rowLimit": 10000
     },
     "inputWidgets": {},
     "nuid": "0af946b4-1429-4a4c-933f-b880b23dc688",
     "showTitle": false,
     "title": ""
    }
   },
   "outputs": [
    {
     "data": {
      "text/plain": [
       "Text(110.44999999999997, 0.5, 'predicted label')"
      ]
     },
     "execution_count": 7,
     "metadata": {},
     "output_type": "execute_result"
    },
    {
     "data": {
      "image/png": "[encoded data removed]",
      "text/plain": [
       "<Figure size 640x480 with 1 Axes>"
      ]
     },
     "metadata": {},
     "output_type": "display_data"
    }
   ],
   "source": [
    "sns.heatmap(cm.T, square=True, fmt='d', cbar=False)\n",
    "plt.xlabel('true label')\n",
    "plt.ylabel('predicted label')"
   ]
  },
  {
   "attachments": {},
   "cell_type": "markdown",
   "metadata": {},
   "source": [
    "#### Storing the Model"
   ]
  },
  {
   "attachments": {},
   "cell_type": "markdown",
   "metadata": {},
   "source": [
    "Lastly, the model is stored as a python object through pickle and used for the purposes of generating predictions for users based on their input on the MVP website."
   ]
  },
  {
   "cell_type": "code",
   "execution_count": 10,
   "metadata": {
    "application/vnd.databricks.v1+cell": {
     "cellMetadata": {
      "byteLimit": 2048000,
      "rowLimit": 10000
     },
     "inputWidgets": {},
     "nuid": "f7a164ce-ff88-4c3d-93e0-9eeec3441c22",
     "showTitle": false,
     "title": ""
    }
   },
   "outputs": [],
   "source": [
    "rf_classifier_model = model.fit(X, y)\n",
    "pickle.dump(rf_classifier_model, open('model.pkl','wb'))"
   ]
  }
 ],
 "metadata": {
  "application/vnd.databricks.v1+notebook": {
   "dashboards": [],
   "language": "python",
   "notebookMetadata": {
    "pythonIndentUnit": 4
   },
   "notebookName": "Model_Development",
   "widgets": {}
  },
  "kernelspec": {
   "display_name": "Python 3 (ipykernel)",
   "language": "python",
   "name": "python3"
  },
  "language_info": {
   "codemirror_mode": {
    "name": "ipython",
    "version": 3
   },
   "file_extension": ".py",
   "mimetype": "text/x-python",
   "name": "python",
   "nbconvert_exporter": "python",
   "pygments_lexer": "ipython3",
   "version": "3.9.13"
  }
 },
 "nbformat": 4,
 "nbformat_minor": 4
}
